{
 "cells": [
  {
   "metadata": {},
   "cell_type": "code",
   "source": [
    "import numpy\n",
    "import matplotlib.pyplot as plt\n",
    "import sklearn\n",
    "from sklearn.model_selection import train_test_split\n",
    "from sklearn.tree import DecisionTreeClassifier, plot_tree\n",
    "from sklearn.metrics import accuracy_score"
   ],
   "id": "f4cd827879d43a79",
   "outputs": [],
   "execution_count": null
  },
  {
   "metadata": {},
   "cell_type": "code",
   "source": [
    "iris = sklearn.datasets.load_iris()\n",
    "print(iris)"
   ],
   "id": "de740c06e55d421",
   "outputs": [],
   "execution_count": null
  },
  {
   "metadata": {},
   "cell_type": "code",
   "source": [
    "# print(type(iris[\"data\"]))\n",
    "# print(iris[\"data\"].shape)\n",
    "#\n",
    "# print(type(iris[\"target\"]))\n",
    "# print(iris[\"target\"].shape)\n",
    "\n",
    "features = iris[\"data\"]\n",
    "labels = iris[\"target\"]\n",
    "feature_names = iris[\"feature_names\"]\n",
    "label_names = iris[\"target_names\"]\n",
    "\n",
    "print(features)\n",
    "print(features.shape)\n",
    "print(labels)\n",
    "print(labels.shape)\n",
    "print(feature_names)\n",
    "print(label_names)"
   ],
   "id": "26486a7063c22db",
   "outputs": [],
   "execution_count": null
  },
  {
   "metadata": {},
   "cell_type": "code",
   "source": [
    "X_train, X_test, y_train, y_test = train_test_split(features, labels, test_size=0.5)\n",
    "print(X_train)\n",
    "print(X_train.shape)\n",
    "print(y_train)\n",
    "print(y_train.shape)\n",
    "print(len([y for y in y_train if y == 0]))\n",
    "print(len([y for y in y_train if y == 1]))\n",
    "print(len([y for y in y_train if y == 2]))"
   ],
   "id": "c4cccabb63da973b",
   "outputs": [],
   "execution_count": null
  },
  {
   "metadata": {},
   "cell_type": "code",
   "source": [
    "clf = DecisionTreeClassifier()\n",
    "clf.fit(X_train, y_train)\n",
    "\n",
    "y_pred = clf.predict(X_test)\n",
    "print(y_test)\n",
    "print(y_pred)"
   ],
   "id": "6253471c1f32180e",
   "outputs": [],
   "execution_count": null
  },
  {
   "metadata": {},
   "cell_type": "code",
   "source": [
    "score = accuracy_score(y_test, y_pred)\n",
    "print(score * 100)"
   ],
   "id": "600167bbb291b2b1",
   "outputs": [],
   "execution_count": null
  },
  {
   "metadata": {},
   "cell_type": "code",
   "source": [
    "plt.figure(figsize=(16,12))\n",
    "plot_tree(clf, filled=True, feature_names=feature_names, class_names=label_names, fontsize=10)\n",
    "plt.show()"
   ],
   "id": "4ad899060885614f",
   "outputs": [],
   "execution_count": null
  }
 ],
 "metadata": {
  "kernelspec": {
   "display_name": "Python 3",
   "language": "python",
   "name": "python3"
  },
  "language_info": {
   "codemirror_mode": {
    "name": "ipython",
    "version": 2
   },
   "file_extension": ".py",
   "mimetype": "text/x-python",
   "name": "python",
   "nbconvert_exporter": "python",
   "pygments_lexer": "ipython2",
   "version": "2.7.6"
  }
 },
 "nbformat": 4,
 "nbformat_minor": 5
}
